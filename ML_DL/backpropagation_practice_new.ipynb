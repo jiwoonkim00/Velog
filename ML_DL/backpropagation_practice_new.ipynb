{
  "cells": [
    {
      "cell_type": "markdown",
      "metadata": {},
      "source": [
        "# 역전파(Backpropagation) 실습\n",
        "\n",
        "이 노트북은 간단한 신경망을 통해 역전파의 원리를 단계별로 이해하기 위한 실습 자료입니다.\n",
        "NumPy만을 사용하여 순전파와 역전파 과정을 직접 구현해봅니다.\n"
      ]
    },
    {
      "cell_type": "code",
      "execution_count": 1,
      "metadata": {},
      "outputs": [],
      "source": [
        "# 필요한 라이브러리 import\n",
        "import numpy as np\n",
        "import matplotlib.pyplot as plt\n"
      ]
    },
    {
      "cell_type": "markdown",
      "metadata": {},
      "source": [
        "## 1. 활성화 함수 정의\n"
      ]
    },
    {
      "cell_type": "code",
      "execution_count": 2,
      "metadata": {},
      "outputs": [
        {
          "name": "stdout",
          "output_type": "stream",
          "text": [
            "활성화 함수 정의 완료\n"
          ]
        }
      ],
      "source": [
        "# 활성화 함수: 시그모이드(Sigmoid)\n",
        "def sigmoid(x):\n",
        "    return 1 / (1 + np.exp(-x))\n",
        "\n",
        "# 시그모이드 함수의 미분\n",
        "def sigmoid_derivative(x):\n",
        "    return x * (1 - x)\n",
        "\n",
        "print(\"활성화 함수 정의 완료\")\n"
      ]
    },
    {
      "cell_type": "markdown",
      "metadata": {},
      "source": [
        "## 2. 데이터 준비\n"
      ]
    },
    {
      "cell_type": "code",
      "execution_count": 3,
      "metadata": {},
      "outputs": [
        {
          "name": "stdout",
          "output_type": "stream",
          "text": [
            "입력 데이터 X:\n",
            "[[0 0]\n",
            " [0 1]\n",
            " [1 0]\n",
            " [1 1]]\n",
            "\n",
            "정답 데이터 Y:\n",
            "[[0]\n",
            " [1]\n",
            " [1]\n",
            " [0]]\n"
          ]
        }
      ],
      "source": [
        "# 입력 데이터 (X) 와 정답 (Y)\n",
        "X = np.array([[0, 0], [0, 1], [1, 0], [1, 1]])\n",
        "Y = np.array([[0], [1], [1], [0]]) # XOR 문제\n",
        "\n",
        "print(\"입력 데이터 X:\")\n",
        "print(X)\n",
        "print(\"\\n정답 데이터 Y:\")\n",
        "print(Y)\n"
      ]
    },
    {
      "cell_type": "markdown",
      "metadata": {},
      "source": [
        "## 3. 신경망 구조 및 초기값 설정\n",
        "\n",
        "- **입력층 (Input Layer)**: 2개의 노드\n",
        "- **은닉층 (Hidden Layer)**: 2개의 노드\n",
        "- **출력층 (Output Layer)**: 1개의 노드\n",
        "\n",
        "각 연결에 대한 가중치(weight)와 편향(bias)을 무작위로 초기화합니다.\n"
      ]
    },
    {
      "cell_type": "code",
      "execution_count": 4,
      "metadata": {},
      "outputs": [
        {
          "name": "stdout",
          "output_type": "stream",
          "text": [
            "신경망 구조:\n",
            "입력층 -> 은닉층 가중치 shape: (2, 2)\n",
            "은닉층 편향 shape: (1, 2)\n",
            "은닉층 -> 출력층 가중치 shape: (2, 1)\n",
            "출력층 편향 shape: (1, 1)\n",
            "\n",
            "학습률: 0.1\n",
            "학습 반복 횟수: 10000\n"
          ]
        }
      ],
      "source": [
        "# 가중치와 편향 초기화\n",
        "np.random.seed(42) # 재현성을 위한 시드 설정\n",
        "weights_h = np.random.rand(2, 2)  # 입력층 -> 은닉층 가중치\n",
        "bias_h = np.random.rand(1, 2)     # 은닉층 편향\n",
        "weights_o = np.random.rand(2, 1)  # 은닉층 -> 출력층 가중치\n",
        "bias_o = np.random.rand(1, 1)     # 출력층 편향\n",
        "\n",
        "learning_rate = 0.1 # 학습률\n",
        "epochs = 10000      # 학습 반복 횟수\n",
        "\n",
        "print(\"신경망 구조:\")\n",
        "print(f\"입력층 -> 은닉층 가중치 shape: {weights_h.shape}\")\n",
        "print(f\"은닉층 편향 shape: {bias_h.shape}\")\n",
        "print(f\"은닉층 -> 출력층 가중치 shape: {weights_o.shape}\")\n",
        "print(f\"출력층 편향 shape: {bias_o.shape}\")\n",
        "print(f\"\\n학습률: {learning_rate}\")\n",
        "print(f\"학습 반복 횟수: {epochs}\")\n"
      ]
    },
    {
      "cell_type": "markdown",
      "metadata": {},
      "source": [
        "## 4. 순전파(Forward Propagation) 함수\n"
      ]
    },
    {
      "cell_type": "code",
      "execution_count": 5,
      "metadata": {},
      "outputs": [
        {
          "name": "stdout",
          "output_type": "stream",
          "text": [
            "순전파 함수 정의 완료\n"
          ]
        }
      ],
      "source": [
        "def forward_propagation(X, weights_h, bias_h, weights_o, bias_o):\n",
        "    \"\"\"\n",
        "    순전파 함수\n",
        "    \n",
        "    Args:\n",
        "        X: 입력 데이터\n",
        "        weights_h: 입력층 -> 은닉층 가중치\n",
        "        bias_h: 은닉층 편향\n",
        "        weights_o: 은닉층 -> 출력층 가중치\n",
        "        bias_o: 출력층 편향\n",
        "    \n",
        "    Returns:\n",
        "        hidden_layer_output: 은닉층 출력\n",
        "        predicted_output: 예측 출력\n",
        "    \"\"\"\n",
        "    # 1. 입력층 -> 은닉층\n",
        "    hidden_layer_input = np.dot(X, weights_h) + bias_h\n",
        "    hidden_layer_output = sigmoid(hidden_layer_input)\n",
        "    \n",
        "    # 2. 은닉층 -> 출력층\n",
        "    output_layer_input = np.dot(hidden_layer_output, weights_o) + bias_o\n",
        "    predicted_output = sigmoid(output_layer_input)\n",
        "    \n",
        "    return hidden_layer_output, predicted_output\n",
        "\n",
        "print(\"순전파 함수 정의 완료\")\n"
      ]
    },
    {
      "cell_type": "markdown",
      "metadata": {},
      "source": [
        "## 5. 역전파(Backpropagation) 함수\n"
      ]
    },
    {
      "cell_type": "code",
      "execution_count": 6,
      "metadata": {},
      "outputs": [
        {
          "name": "stdout",
          "output_type": "stream",
          "text": [
            "역전파 함수 정의 완료\n"
          ]
        }
      ],
      "source": [
        "def backward_propagation(X, Y, hidden_layer_output, predicted_output, weights_o):\n",
        "    \"\"\"\n",
        "    역전파 함수\n",
        "    \n",
        "    Args:\n",
        "        X: 입력 데이터\n",
        "        Y: 정답 데이터\n",
        "        hidden_layer_output: 은닉층 출력\n",
        "        predicted_output: 예측 출력\n",
        "        weights_o: 은닉층 -> 출력층 가중치\n",
        "    \n",
        "    Returns:\n",
        "        d_weights_h: 입력층 -> 은닉층 가중치 기울기\n",
        "        d_bias_h: 은닉층 편향 기울기\n",
        "        d_weights_o: 은닉층 -> 출력층 가중치 기울기\n",
        "        d_bias_o: 출력층 편향 기울기\n",
        "    \"\"\"\n",
        "    # 1. 출력층의 델타 계산\n",
        "    error = Y - predicted_output\n",
        "    d_predicted_output = error * sigmoid_derivative(predicted_output)\n",
        "    \n",
        "    # 2. 은닉층의 오차 계산 (출력층 델타를 역전파)\n",
        "    error_hidden_layer = d_predicted_output.dot(weights_o.T)\n",
        "    \n",
        "    # 3. 은닉층의 델타 계산\n",
        "    d_hidden_layer = error_hidden_layer * sigmoid_derivative(hidden_layer_output)\n",
        "    \n",
        "    # 4. 가중치와 편향의 기울기 계산\n",
        "    d_weights_o = hidden_layer_output.T.dot(d_predicted_output)\n",
        "    d_bias_o = np.sum(d_predicted_output, axis=0, keepdims=True)\n",
        "    d_weights_h = X.T.dot(d_hidden_layer)\n",
        "    d_bias_h = np.sum(d_hidden_layer, axis=0, keepdims=True)\n",
        "    \n",
        "    return d_weights_h, d_bias_h, d_weights_o, d_bias_o\n",
        "\n",
        "print(\"역전파 함수 정의 완료\")\n"
      ]
    },
    {
      "cell_type": "markdown",
      "metadata": {},
      "source": [
        "## 6. 학습 과정 실행\n"
      ]
    },
    {
      "cell_type": "code",
      "execution_count": 7,
      "metadata": {},
      "outputs": [
        {
          "name": "stdout",
          "output_type": "stream",
          "text": [
            "학습 시작...\n",
            "==================================================\n",
            "Epoch     0, Loss: 0.324659\n",
            "Epoch  1000, Loss: 0.240589\n",
            "Epoch  2000, Loss: 0.196030\n",
            "Epoch  3000, Loss: 0.120663\n",
            "Epoch  4000, Loss: 0.030459\n",
            "Epoch  5000, Loss: 0.012541\n",
            "Epoch  6000, Loss: 0.007368\n",
            "Epoch  7000, Loss: 0.005093\n",
            "Epoch  8000, Loss: 0.003847\n",
            "Epoch  9000, Loss: 0.003071\n",
            "==================================================\n",
            "학습 완료!\n"
          ]
        }
      ],
      "source": [
        "# 학습 과정을 위한 변수 초기화\n",
        "losses = []\n",
        "\n",
        "print(\"학습 시작...\")\n",
        "print(\"=\" * 50)\n",
        "\n",
        "for i in range(epochs):\n",
        "    # --- 순전파 (Forward Pass) --- \n",
        "    hidden_layer_output, predicted_output = forward_propagation(X, weights_h, bias_h, weights_o, bias_o)\n",
        "    \n",
        "    # --- 손실 계산 (Mean Squared Error) ---\n",
        "    error = Y - predicted_output\n",
        "    loss = np.mean(error**2)\n",
        "    losses.append(loss)\n",
        "    \n",
        "    # --- 역전파 (Backward Pass) --- \n",
        "    d_weights_h, d_bias_h, d_weights_o, d_bias_o = backward_propagation(\n",
        "        X, Y, hidden_layer_output, predicted_output, weights_o\n",
        "    )\n",
        "    \n",
        "    # --- 가중치 및 편향 업데이트 --- \n",
        "    weights_o += d_weights_o * learning_rate\n",
        "    bias_o += d_bias_o * learning_rate\n",
        "    weights_h += d_weights_h * learning_rate\n",
        "    bias_h += d_bias_h * learning_rate\n",
        "    \n",
        "    if i % 1000 == 0:\n",
        "        print(f\"Epoch {i:5d}, Loss: {loss:.6f}\")\n",
        "\n",
        "print(\"=\" * 50)\n",
        "print(\"학습 완료!\")\n"
      ]
    },
    {
      "cell_type": "markdown",
      "metadata": {},
      "source": [
        "## 7. 학습 결과 확인\n"
      ]
    },
    {
      "cell_type": "code",
      "execution_count": 8,
      "metadata": {},
      "outputs": [
        {
          "name": "stdout",
          "output_type": "stream",
          "text": [
            "\n",
            "--- 학습 후 예측 결과 ---\n",
            "입력값:\n",
            "[[0 0]\n",
            " [0 1]\n",
            " [1 0]\n",
            " [1 1]]\n",
            "\n",
            "정답:\n",
            "[0 1 1 0]\n",
            "\n",
            "예측값:\n",
            "[0.0532 0.9517 0.9516 0.0517]\n",
            "\n",
            "예측값 (반올림):\n",
            "[0 1 1 0]\n"
          ]
        }
      ],
      "source": [
        "# 최종 예측 결과\n",
        "_, final_prediction = forward_propagation(X, weights_h, bias_h, weights_o, bias_o)\n",
        "\n",
        "print(\"\\n--- 학습 후 예측 결과 ---\")\n",
        "print(\"입력값:\")\n",
        "print(X)\n",
        "print(\"\\n정답:\")\n",
        "print(Y.flatten())\n",
        "print(\"\\n예측값:\")\n",
        "print(final_prediction.flatten().round(4))\n",
        "print(\"\\n예측값 (반올림):\")\n",
        "print(final_prediction.flatten().round(0).astype(int))\n"
      ]
    },
    {
      "cell_type": "markdown",
      "metadata": {},
      "source": [
        "## 8. 손실 함수 시각화\n"
      ]
    },
    {
      "cell_type": "code",
      "execution_count": 9,
      "metadata": {},
      "outputs": [
        {
          "name": "stderr",
          "output_type": "stream",
          "text": [
            "/home/jiwoonkim/venv/lib/python3.10/site-packages/IPython/core/pylabtools.py:170: UserWarning: Glyph 54617 (\\N{HANGUL SYLLABLE HAG}) missing from font(s) DejaVu Sans.\n",
            "  fig.canvas.print_figure(bytes_io, **kw)\n",
            "/home/jiwoonkim/venv/lib/python3.10/site-packages/IPython/core/pylabtools.py:170: UserWarning: Glyph 49845 (\\N{HANGUL SYLLABLE SEUB}) missing from font(s) DejaVu Sans.\n",
            "  fig.canvas.print_figure(bytes_io, **kw)\n",
            "/home/jiwoonkim/venv/lib/python3.10/site-packages/IPython/core/pylabtools.py:170: UserWarning: Glyph 44284 (\\N{HANGUL SYLLABLE GWA}) missing from font(s) DejaVu Sans.\n",
            "  fig.canvas.print_figure(bytes_io, **kw)\n",
            "/home/jiwoonkim/venv/lib/python3.10/site-packages/IPython/core/pylabtools.py:170: UserWarning: Glyph 51221 (\\N{HANGUL SYLLABLE JEONG}) missing from font(s) DejaVu Sans.\n",
            "  fig.canvas.print_figure(bytes_io, **kw)\n",
            "/home/jiwoonkim/venv/lib/python3.10/site-packages/IPython/core/pylabtools.py:170: UserWarning: Glyph 50640 (\\N{HANGUL SYLLABLE E}) missing from font(s) DejaVu Sans.\n",
            "  fig.canvas.print_figure(bytes_io, **kw)\n",
            "/home/jiwoonkim/venv/lib/python3.10/site-packages/IPython/core/pylabtools.py:170: UserWarning: Glyph 49436 (\\N{HANGUL SYLLABLE SEO}) missing from font(s) DejaVu Sans.\n",
            "  fig.canvas.print_figure(bytes_io, **kw)\n",
            "/home/jiwoonkim/venv/lib/python3.10/site-packages/IPython/core/pylabtools.py:170: UserWarning: Glyph 51032 (\\N{HANGUL SYLLABLE YI}) missing from font(s) DejaVu Sans.\n",
            "  fig.canvas.print_figure(bytes_io, **kw)\n",
            "/home/jiwoonkim/venv/lib/python3.10/site-packages/IPython/core/pylabtools.py:170: UserWarning: Glyph 49552 (\\N{HANGUL SYLLABLE SON}) missing from font(s) DejaVu Sans.\n",
            "  fig.canvas.print_figure(bytes_io, **kw)\n",
            "/home/jiwoonkim/venv/lib/python3.10/site-packages/IPython/core/pylabtools.py:170: UserWarning: Glyph 49892 (\\N{HANGUL SYLLABLE SIL}) missing from font(s) DejaVu Sans.\n",
            "  fig.canvas.print_figure(bytes_io, **kw)\n",
            "/home/jiwoonkim/venv/lib/python3.10/site-packages/IPython/core/pylabtools.py:170: UserWarning: Glyph 54632 (\\N{HANGUL SYLLABLE HAM}) missing from font(s) DejaVu Sans.\n",
            "  fig.canvas.print_figure(bytes_io, **kw)\n",
            "/home/jiwoonkim/venv/lib/python3.10/site-packages/IPython/core/pylabtools.py:170: UserWarning: Glyph 49688 (\\N{HANGUL SYLLABLE SU}) missing from font(s) DejaVu Sans.\n",
            "  fig.canvas.print_figure(bytes_io, **kw)\n",
            "/home/jiwoonkim/venv/lib/python3.10/site-packages/IPython/core/pylabtools.py:170: UserWarning: Glyph 48320 (\\N{HANGUL SYLLABLE BYEON}) missing from font(s) DejaVu Sans.\n",
            "  fig.canvas.print_figure(bytes_io, **kw)\n",
            "/home/jiwoonkim/venv/lib/python3.10/site-packages/IPython/core/pylabtools.py:170: UserWarning: Glyph 54868 (\\N{HANGUL SYLLABLE HWA}) missing from font(s) DejaVu Sans.\n",
            "  fig.canvas.print_figure(bytes_io, **kw)\n"
          ]
        },
        {
          "data": {
            "image/png": "[encoded data removed]",
            "text/plain": [
              "<Figure size 1000x600 with 1 Axes>"
            ]
          },
          "metadata": {},
          "output_type": "display_data"
        },
        {
          "name": "stdout",
          "output_type": "stream",
          "text": [
            "최종 손실: 0.002546\n",
            "초기 손실: 0.324659\n",
            "손실 감소율: 99.22%\n"
          ]
        }
      ],
      "source": [
        "# 손실 함수 그래프\n",
        "plt.figure(figsize=(10, 6))\n",
        "plt.plot(losses)\n",
        "plt.title('학습 과정에서의 손실 함수 변화')\n",
        "plt.xlabel('Epoch')\n",
        "plt.ylabel('Loss (MSE)')\n",
        "plt.grid(True)\n",
        "plt.yscale('log')  # 로그 스케일로 표시\n",
        "plt.show()\n",
        "\n",
        "print(f\"최종 손실: {losses[-1]:.6f}\")\n",
        "print(f\"초기 손실: {losses[0]:.6f}\")\n",
        "print(f\"손실 감소율: {((losses[0] - losses[-1]) / losses[0] * 100):.2f}%\")\n"
      ]
    },
    {
      "cell_type": "markdown",
      "metadata": {},
      "source": [
        "## 9. 학습된 가중치 확인\n"
      ]
    },
    {
      "cell_type": "code",
      "execution_count": 10,
      "metadata": {},
      "outputs": [
        {
          "name": "stdout",
          "output_type": "stream",
          "text": [
            "\n",
            "--- 학습된 가중치와 편향 ---\n",
            "\n",
            "입력층 -> 은닉층 가중치:\n",
            "[[3.79198478 5.81661184]\n",
            " [3.80004873 5.8545897 ]]\n",
            "\n",
            "은닉층 편향:\n",
            "[[-5.82020057 -2.46277158]]\n",
            "\n",
            "은닉층 -> 출력층 가중치:\n",
            "[[-8.32186051]\n",
            " [ 7.66063503]]\n",
            "\n",
            "출력층 편향:\n",
            "[[-3.45550373]]\n"
          ]
        }
      ],
      "source": [
        "print(\"\\n--- 학습된 가중치와 편향 ---\")\n",
        "print(\"\\n입력층 -> 은닉층 가중치:\")\n",
        "print(weights_h)\n",
        "print(\"\\n은닉층 편향:\")\n",
        "print(bias_h)\n",
        "print(\"\\n은닉층 -> 출력층 가중치:\")\n",
        "print(weights_o)\n",
        "print(\"\\n출력층 편향:\")\n",
        "print(bias_o)\n"
      ]
    },
    {
      "cell_type": "markdown",
      "metadata": {},
      "source": [
        "## 10. XOR 문제 해결 확인\n"
      ]
    },
    {
      "cell_type": "code",
      "execution_count": 11,
      "metadata": {},
      "outputs": [
        {
          "name": "stdout",
          "output_type": "stream",
          "text": [
            "\n",
            "--- XOR 문제 해결 확인 ---\n",
            "입력1 | 입력2 | 정답 | 예측 | 정확도\n",
            "----------------------------------------\n",
            "  0   |   0   |  0   |   0   |   ✓\n",
            "  0   |   1   |  1   |   1   |   ✓\n",
            "  1   |   0   |  1   |   1   |   ✓\n",
            "  1   |   1   |  0   |   0   |   ✓\n",
            "----------------------------------------\n",
            "전체 정확도: 4/4 = 100.0%\n"
          ]
        }
      ],
      "source": [
        "# XOR 문제 해결 여부 확인\n",
        "print(\"\\n--- XOR 문제 해결 확인 ---\")\n",
        "print(\"입력1 | 입력2 | 정답 | 예측 | 정확도\")\n",
        "print(\"-\" * 40)\n",
        "\n",
        "correct = 0\n",
        "for i in range(len(X)):\n",
        "    input1, input2 = X[i]\n",
        "    true_label = int(Y[i][0])\n",
        "    predicted_label = int(final_prediction[i][0].round())\n",
        "    accuracy = \"✓\" if true_label == predicted_label else \"✗\"\n",
        "    \n",
        "    if true_label == predicted_label:\n",
        "        correct += 1\n",
        "    \n",
        "    print(f\"  {input1}   |   {input2}   |  {true_label}   |   {predicted_label}   |   {accuracy}\")\n",
        "\n",
        "print(\"-\" * 40)\n",
        "print(f\"전체 정확도: {correct}/{len(X)} = {correct/len(X)*100:.1f}%\")\n"
      ]
    }
  ],
  "metadata": {
    "kernelspec": {
      "display_name": "venv",
      "language": "python",
      "name": "python3"
    },
    "language_info": {
      "codemirror_mode": {
        "name": "ipython",
        "version": 3
      },
      "file_extension": ".py",
      "mimetype": "text/x-python",
      "name": "python",
      "nbconvert_exporter": "python",
      "pygments_lexer": "ipython3",
      "version": "3.10.18"
    }
  },
  "nbformat": 4,
  "nbformat_minor": 2
}
