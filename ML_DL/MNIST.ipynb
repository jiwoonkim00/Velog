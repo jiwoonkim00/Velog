{
 "cells": [
  {
   "cell_type": "code",
   "execution_count": 2,
   "id": "9378eaf5",
   "metadata": {},
   "outputs": [],
   "source": [
    "import torch\n",
    "import torch.nn as nn\n",
    "import torch.optim as optim\n",
    "import torchvision\n",
    "import torchvision.transforms as transforms\n",
    "from torch.utils.data import DataLoader"
   ]
  },
  {
   "cell_type": "code",
   "execution_count": 4,
   "id": "9d0a7b19",
   "metadata": {},
   "outputs": [
    {
     "name": "stderr",
     "output_type": "stream",
     "text": [
      "100.0%\n",
      "100.0%\n",
      "100.0%\n",
      "100.0%\n"
     ]
    }
   ],
   "source": [
    "# 1. 데이터 준비\n",
    "#-------------------------------------------------------------------------------\n",
    "# MNIST 데이터셋을 위한 변환(transform) 정의\n",
    "# 이미지를 Tensor로 변환하고, 정규화(normalize)합니다.\n",
    "transform = transforms.Compose(\n",
    "    [transforms.ToTensor(),\n",
    "     transforms.Normalize((0.5,), (0.5,))])\n",
    "\n",
    "# 학습용 데이터셋 로드\n",
    "trainset = torchvision.datasets.MNIST(root='./data', train=True,\n",
    "                                        download=True, transform=transform)\n",
    "trainloader = DataLoader(trainset, batch_size=64,\n",
    "                                          shuffle=True, num_workers=2)\n",
    "\n",
    "# 테스트용 데이터셋 로드\n",
    "testset = torchvision.datasets.MNIST(root='./data', train=False,\n",
    "                                       download=True, transform=transform)\n",
    "testloader = DataLoader(testset, batch_size=64,\n",
    "                                         shuffle=False, num_workers=2)\n",
    "\n",
    "classes = tuple(str(i) for i in range(10))"
   ]
  },
  {
   "cell_type": "code",
   "execution_count": 5,
   "id": "b1f5029c",
   "metadata": {},
   "outputs": [],
   "source": [
    "# 2. 신경망 모델 정의\n",
    "#-------------------------------------------------------------------------------\n",
    "class Net(nn.Module):\n",
    "    def __init__(self):\n",
    "        super(Net, self).__init__()\n",
    "        self.conv1 = nn.Conv2d(1, 32, 3, 1)\n",
    "        self.conv2 = nn.Conv2d(32, 64, 3, 1)\n",
    "        self.dropout1 = nn.Dropout(0.25)\n",
    "        self.dropout2 = nn.Dropout(0.5)\n",
    "        self.fc1 = nn.Linear(9216, 128)\n",
    "        self.fc2 = nn.Linear(128, 10)\n",
    "\n",
    "    def forward(self, x):\n",
    "        x = self.conv1(x)\n",
    "        x = torch.relu(x)\n",
    "        x = self.conv2(x)\n",
    "        x = torch.relu(x)\n",
    "        x = torch.max_pool2d(x, 2)\n",
    "        x = self.dropout1(x)\n",
    "        x = torch.flatten(x, 1)\n",
    "        x = self.fc1(x)\n",
    "        x = torch.relu(x)\n",
    "        x = self.dropout2(x)\n",
    "        x = self.fc2(x)\n",
    "        output = torch.log_softmax(x, dim=1)\n",
    "        return output\n",
    "\n",
    "net = Net()"
   ]
  },
  {
   "cell_type": "code",
   "execution_count": 6,
   "id": "a63a9102",
   "metadata": {},
   "outputs": [],
   "source": [
    "# 3. 손실 함수 및 옵티마이저 정의\n",
    "#-------------------------------------------------------------------------------\n",
    "criterion = nn.CrossEntropyLoss()\n",
    "optimizer = optim.Adam(net.parameters(), lr=0.001)\n"
   ]
  },
  {
   "cell_type": "code",
   "execution_count": 7,
   "id": "f4963d87",
   "metadata": {},
   "outputs": [
    {
     "name": "stdout",
     "output_type": "stream",
     "text": [
      "학습을 시작합니다...\n",
      "[1,   200] loss: 0.457\n",
      "[1,   400] loss: 0.166\n",
      "[1,   600] loss: 0.134\n",
      "[1,   800] loss: 0.128\n",
      "[2,   200] loss: 0.091\n",
      "[2,   400] loss: 0.090\n",
      "[2,   600] loss: 0.083\n",
      "[2,   800] loss: 0.072\n",
      "[3,   200] loss: 0.069\n",
      "[3,   400] loss: 0.067\n",
      "[3,   600] loss: 0.057\n",
      "[3,   800] loss: 0.065\n",
      "[4,   200] loss: 0.052\n",
      "[4,   400] loss: 0.052\n",
      "[4,   600] loss: 0.054\n",
      "[4,   800] loss: 0.056\n",
      "[5,   200] loss: 0.043\n",
      "[5,   400] loss: 0.052\n",
      "[5,   600] loss: 0.045\n",
      "[5,   800] loss: 0.044\n",
      "[6,   200] loss: 0.039\n",
      "[6,   400] loss: 0.039\n",
      "[6,   600] loss: 0.032\n",
      "[6,   800] loss: 0.039\n",
      "[7,   200] loss: 0.032\n",
      "[7,   400] loss: 0.032\n",
      "[7,   600] loss: 0.032\n",
      "[7,   800] loss: 0.037\n",
      "[8,   200] loss: 0.026\n",
      "[8,   400] loss: 0.032\n",
      "[8,   600] loss: 0.033\n",
      "[8,   800] loss: 0.031\n",
      "[9,   200] loss: 0.021\n",
      "[9,   400] loss: 0.029\n",
      "[9,   600] loss: 0.033\n",
      "[9,   800] loss: 0.028\n",
      "[10,   200] loss: 0.021\n",
      "[10,   400] loss: 0.025\n",
      "[10,   600] loss: 0.030\n",
      "[10,   800] loss: 0.025\n",
      "학습 완료\n"
     ]
    }
   ],
   "source": [
    "# 4. 모델 학습\n",
    "#-------------------------------------------------------------------------------\n",
    "print(\"학습을 시작합니다...\")\n",
    "for epoch in range(10):  # 10 에포크 동안 학습합니다.\n",
    "\n",
    "    running_loss = 0.0\n",
    "    for i, data in enumerate(trainloader, 0):\n",
    "        # [inputs, labels]의 목록인 data로부터 입력을 받은 후;\n",
    "        inputs, labels = data\n",
    "\n",
    "        # 변화도(gradient) 매개변수를 0으로 만듭니다.\n",
    "        optimizer.zero_grad()\n",
    "\n",
    "        # 순전파 + 역전파 + 최적화를 한 후\n",
    "        outputs = net(inputs)\n",
    "        loss = criterion(outputs, labels)\n",
    "        loss.backward()\n",
    "        optimizer.step()\n",
    "\n",
    "        # 통계를 출력합니다.\n",
    "        running_loss += loss.item()\n",
    "        if i % 200 == 199:    # print every 200 mini-batches\n",
    "            print(f'[{epoch + 1}, {i + 1:5d}] loss: {running_loss / 200:.3f}')\n",
    "            running_loss = 0.0\n",
    "\n",
    "print('학습 완료')"
   ]
  },
  {
   "cell_type": "code",
   "execution_count": 8,
   "id": "414ad9a6",
   "metadata": {},
   "outputs": [
    {
     "name": "stdout",
     "output_type": "stream",
     "text": [
      "모델이 ./mnist_net.pth에 저장되었습니다.\n"
     ]
    }
   ],
   "source": [
    "# 5. 모델 저장\n",
    "#-------------------------------------------------------------------------------\n",
    "PATH = './mnist_net.pth'\n",
    "torch.save(net.state_dict(), PATH)\n",
    "print(f'모델이 {PATH}에 저장되었습니다.')"
   ]
  },
  {
   "cell_type": "code",
   "execution_count": 9,
   "id": "96fe1dd6",
   "metadata": {},
   "outputs": [
    {
     "name": "stdout",
     "output_type": "stream",
     "text": [
      "테스트 데이터셋에서의 정확도: 98 %\n",
      "'0' 분류의 정확도: 99.2 %\n",
      "'1' 분류의 정확도: 99.1 %\n",
      "'2' 분류의 정확도: 99.2 %\n",
      "'3' 분류의 정확도: 97.8 %\n",
      "'4' 분류의 정확도: 98.1 %\n",
      "'5' 분류의 정확도: 98.9 %\n",
      "'6' 분류의 정확도: 98.4 %\n",
      "'7' 분류의 정확도: 97.8 %\n",
      "'8' 분류의 정확도: 98.9 %\n",
      "'9' 분류의 정확도: 97.2 %\n"
     ]
    }
   ],
   "source": [
    "# 6. 모델 평가\n",
    "#-------------------------------------------------------------------------------\n",
    "correct = 0\n",
    "total = 0\n",
    "# 학습 중이 아니므로, 출력에 대한 변화도를 계산할 필요가 없습니다.\n",
    "with torch.no_grad():\n",
    "    for data in testloader:\n",
    "        images, labels = data\n",
    "        # 신경망에 이미지를 통과시켜 출력을 계산합니다.\n",
    "        outputs = net(images)\n",
    "        # 가장 높은 값(energy)를 갖는 분류(class)를 정답으로 선택합니다.\n",
    "        _, predicted = torch.max(outputs.data, 1)\n",
    "        total += labels.size(0)\n",
    "        correct += (predicted == labels).sum().item()\n",
    "\n",
    "print(f'테스트 데이터셋에서의 정확도: {100 * correct // total} %')\n",
    "\n",
    "# 각 분류(class)에 대한 정확도 출력\n",
    "correct_pred = {classname: 0 for classname in classes}\n",
    "total_pred = {classname: 0 for classname in classes}\n",
    "\n",
    "with torch.no_grad():\n",
    "    for data in testloader:\n",
    "        images, labels = data\n",
    "        outputs = net(images)\n",
    "        _, predictions = torch.max(outputs, 1)\n",
    "        # 각 분류별로 올바른 예측을 수집합니다.\n",
    "        for label, prediction in zip(labels, predictions):\n",
    "            if label == prediction:\n",
    "                correct_pred[classes[label]] += 1\n",
    "            total_pred[classes[label]] += 1\n",
    "\n",
    "# 각 분류별 정확도를 출력합니다.\n",
    "for classname, correct_count in correct_pred.items():\n",
    "    accuracy = 100 * float(correct_count) / total_pred[classname]\n",
    "    print(f\"'{classname}' 분류의 정확도: {accuracy:.1f} %\")"
   ]
  }
 ],
 "metadata": {
  "kernelspec": {
   "display_name": "venv (3.10.18)",
   "language": "python",
   "name": "python3"
  },
  "language_info": {
   "codemirror_mode": {
    "name": "ipython",
    "version": 3
   },
   "file_extension": ".py",
   "mimetype": "text/x-python",
   "name": "python",
   "nbconvert_exporter": "python",
   "pygments_lexer": "ipython3",
   "version": "3.10.18"
  }
 },
 "nbformat": 4,
 "nbformat_minor": 5
}
